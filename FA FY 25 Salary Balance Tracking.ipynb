{
 "cells": [
  {
   "cell_type": "markdown",
   "id": "9b54fc27",
   "metadata": {},
   "source": [
    "# FA FY 25 Salary Balance Tracking\n",
    "\n",
    "Returning relevant expenditure accounts for FY 25 salary tracking.\n",
    "\n",
    "- Current Month: **August**"
   ]
  },
  {
   "cell_type": "code",
   "execution_count": 1,
   "id": "2e76d89a",
   "metadata": {},
   "outputs": [],
   "source": [
    "# importing packages\n",
    "import tabula \n",
    "from tabula import read_pdf\n",
    "import os\n",
    "import pandas as pd\n",
    "import string as str"
   ]
  },
  {
   "cell_type": "code",
   "execution_count": 2,
   "id": "d1ac774c",
   "metadata": {},
   "outputs": [],
   "source": [
    "# setting JAVA_HOME and PATH variables\n",
    "os.environ['JAVA_HOME'] = '/Users/scipio/Documents/FA_Budget_PDFs/jdk-22.0.2.jdk/Contents/Home'\n",
    "os.environ['PATH'] = '/Users/scipio/Documents/FA_Budget_PDFs/jdk-22.0.2.jdk/Contents/Home/lib/server'"
   ]
  },
  {
   "cell_type": "code",
   "execution_count": 3,
   "id": "de46bb77",
   "metadata": {
    "scrolled": false
   },
   "outputs": [],
   "source": [
    "# importing data\n",
    "df1 = pd.DataFrame(tabula.read_pdf('/Users/scipio/Documents/FA_Budget_PDFs/All Accounts 08.31.24 Budget.PDF', pages = 1,\n",
    "               pandas_options = {'header': None},multiple_tables = True)[0])\n",
    "df2 =pd.DataFrame(tabula.read_pdf('/Users/scipio/Documents/FA_Budget_PDFs/All Accounts 08.31.24 Budget.PDF', pages =  2,\n",
    "               pandas_options = {'header': None},multiple_tables = True)[0])\n",
    "df3 =pd.DataFrame(tabula.read_pdf('/Users/scipio/Documents/FA_Budget_PDFs/All Accounts 08.31.24 Budget.PDF', pages = 3,\n",
    "               pandas_options = {'header': None},multiple_tables = True)[0])\n",
    "df4 =pd.DataFrame(tabula.read_pdf('/Users/scipio/Documents/FA_Budget_PDFs/All Accounts 08.31.24 Budget.PDF', pages = 4,\n",
    "               pandas_options = {'header': None},multiple_tables = True)[0])\n",
    "df5 =pd.DataFrame(tabula.read_pdf('/Users/scipio/Documents/FA_Budget_PDFs/All Accounts 08.31.24 Budget.PDF', pages = 5,\n",
    "               pandas_options = {'header': None},multiple_tables = True)[0])\n",
    "df6 =pd.DataFrame(tabula.read_pdf('/Users/scipio/Documents/FA_Budget_PDFs/All Accounts 08.31.24 Budget.PDF', pages = 6,\n",
    "               pandas_options = {'header': None},multiple_tables = True)[0])\n",
    "df7 =pd.DataFrame(tabula.read_pdf('/Users/scipio/Documents/FA_Budget_PDFs/All Accounts 08.31.24 Budget.PDF', pages = 7,\n",
    "               pandas_options = {'header': None},multiple_tables = True)[0])\n",
    "df8 =pd.DataFrame(tabula.read_pdf('/Users/scipio/Documents/FA_Budget_PDFs/All Accounts 08.31.24 Budget.PDF', pages = 8,\n",
    "               pandas_options = {'header': None},multiple_tables = True)[0])\n",
    "df9 =pd.DataFrame(tabula.read_pdf('/Users/scipio/Documents/FA_Budget_PDFs/All Accounts 08.31.24 Budget.PDF', pages = 9,\n",
    "               pandas_options = {'header': None},multiple_tables = True)[0])\n",
    "df10 =pd.DataFrame(tabula.read_pdf('/Users/scipio/Documents/FA_Budget_PDFs/All Accounts 08.31.24 Budget.PDF', pages = 10,\n",
    "               pandas_options = {'header': None},multiple_tables = True)[0])\n",
    "\n",
    "#combining tables\n",
    "df = pd.concat([df1,df2,df3,df4,df5,df6,df7,df8,df9,df10])"
   ]
  },
  {
   "cell_type": "code",
   "execution_count": 4,
   "id": "551af2b7",
   "metadata": {},
   "outputs": [],
   "source": [
    "#creating. rename object\n",
    "rename = {\n",
    "    0:'Expend. Account #',\n",
    "    1:'Account Title',\n",
    "    2:'Original Bgt',\n",
    "    3:'New App/Trnsf',\n",
    "    4:'Revised Bgt',\n",
    "    5:'Expenditures',\n",
    "    6:'Encumbrances',\n",
    "    7:'Avail Balance',\n",
    "    8:'% Spent'}\n",
    "\n",
    "df.rename(columns = rename, inplace = True) #--> renaming columns\n",
    "\n",
    "df['Merge'] = df['Expend. Account #'].str.split(' ').str[0] #--> creating unique identifier\n",
    "                 \n",
    "# returning relevant columns\n",
    "df = df[['Merge','Encumbrances','Avail Balance']]"
   ]
  },
  {
   "cell_type": "code",
   "execution_count": 5,
   "id": "825b56c1",
   "metadata": {},
   "outputs": [],
   "source": [
    "#creating dataframe\n",
    "fy_25_salary_balance = pd.DataFrame(\n",
    "    {'Account':['130-100-101-100-043','130-100-101-101-043','130-100-101-300-043',\n",
    "                '130-100-101-301-043','140-100-101-500-043','140-100-101-501-043',\n",
    "                '000-240-103-100-052','000-240-105-000-053','000-240-105-100-053',\n",
    "                '000-262-110-000-066','000-240-105-300-053','000-219-104-000-066',\n",
    "                '000-240-103-300-052','000-240-103-000-052','000-240-105-500-053',\n",
    "                '000-240-103-500-052','250-100-100-000-097','231-100-100-000-096',\n",
    "                '241-100-100-000-096']})\n",
    "\n",
    "# merging dataframe to return relevent account data\n",
    "fy_25_salary_df = fy_25_salary_balance.merge(df, left_on = 'Account',right_on = 'Merge', how = 'left')\n",
    "fy_25_salary_df = fy_25_salary_df [['Account','Encumbrances','Avail Balance']]\n",
    "\n",
    "#exporting data\n",
    "fy_25_salary_df.to_csv('/Users/scipio/Documents/FA_Budget_PDFs/aug_salary_tracker.csv')"
   ]
  }
 ],
 "metadata": {
  "kernelspec": {
   "display_name": "Python 3 (ipykernel)",
   "language": "python",
   "name": "python3"
  },
  "language_info": {
   "codemirror_mode": {
    "name": "ipython",
    "version": 3
   },
   "file_extension": ".py",
   "mimetype": "text/x-python",
   "name": "python",
   "nbconvert_exporter": "python",
   "pygments_lexer": "ipython3",
   "version": "3.10.9"
  }
 },
 "nbformat": 4,
 "nbformat_minor": 5
}
